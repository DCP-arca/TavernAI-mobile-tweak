{
  "cells": [
    {
      "cell_type": "markdown",
      "metadata": {
        "id": "d-Yihz3hAb2E"
      },
      "source": [
        "original : <br>\n",
        "https://colab.research.google.com/github/TavernAI/TavernAI/blob/main/colab/GPU.ipynb<br>\n",
        "\n",
        "ui-tweak : <br>\n",
        "https://colab.research.google.com/github/DCP-arca/TavernAI-mobile-tweak/blob/main/colab/GPU.ipynb<br>\n",
        "\n",
        "ui-tweak github : <br>\n",
        "https://github.com/DCP-arca/TavernAI-mobile-tweak/blob/main/colab/GPU.ipynb<br>\n",
        "<br>\n",
        "<br>\n",
        "=================================<br>\n",
        "<br>\n",
        "<br>\n",
        "Works with:<br>\n",
        "KoboldAI https://github.com/KoboldAI/KoboldAI-Client<br>\n",
        "Pygmalion https://huggingface.co/PygmalionAI/<br>\n",
        "<br>\n",
        "**Links**<br>\n",
        "TavernAI Github https://github.com/TavernAI/TavernAI<br>\n",
        "TavernAI Discord https://discord.gg/zmK2gmr45t<br>\n",
        "TavernAI Boosty https://boosty.to/tavernai\n",
        "<pre>\n",
        " Tavern.AI/ \\ /  ^   ^ ^ ^    ~~~~ ^ \\     /  ^ ^   ^ ^/ ^  ^ \\/^  ^    \\\n",
        "         /^ ^\\ ^  ^ ^   ^ ^  ~~   ^   \\   /  ^  ^ ^   / ^ ^  ^/   ^ ^    \\\n",
        "        /^ ^ ^\\^   ^ ^ ^   _||____   ^ \\ /  ^  ^ ^   /       /  ^  ^  ^   \\\n",
        " /\\ /\\ /\\   ^  \\  /\\ /\\   /\\\\\\\\\\\\\\\\   ^ \\  ^ /\\ /\\ /\\   /\\ /\\ /\\  ^ ^  ^/\\\n",
        "//\\\\/\\\\/\\\\   ^  \\//\\\\/\\\\ /__\\\\\\\\\\\\\\\\  _, \\  //\\\\/\\\\/\\\\ //\\\\/\\\\/\\\\  ^ ^ //\\\\\n",
        "//\\\\/\\\\/\\\\       //\\\\/\\\\ |__|_|_|__|   \\__, //\\\\/\\\\/\\\\ //\\\\/\\\\/\\\\     ///\\\\\\\n",
        " || || (@＾◡＾)(≖ ‸ ≖*) ( ←_← )\\| /|   /\\ \\ヽ(°ㅂ°╬) |( Ψ▼ｰ▼)∈ (O_O; )  |||\n",
        "~~~~~~~~~~~~~~~~~~~~~~~~~~~~~~~~~~~~~~~~~~~~ ~~~~~ ~~~~~ ~~~~~ ~~~~~  ~~~~~ ~~ \n",
        "</pre>\n",
        "**Launch Instructions**<br>\n",
        "1. Click the launch button.\n",
        "2. Wait for the environment and model to load\n",
        "3. After initialization, a TavernAI link will appear\n",
        "\n",
        "**Faq**<br>\n",
        "* Q: I do not get a TavernAI link\n",
        "* A: It seems the localtunnel service is currently down, so the TavernAI link is unavailable. Need to wait for it to start working again."
      ]
    },
    {
      "cell_type": "code",
      "execution_count": null,
      "metadata": {
        "id": "hCpoIHxYcDGs"
      },
      "outputs": [],
      "source": [
        "#@title <-- Tap this if you play on Mobile { display-mode: \"form\" }\n",
        "#Taken from KoboldAI colab\n",
        "%%html\n",
        "<b>Press play on the music player to keep the tab alive, then start TavernAI below (Uses only 13MB of data)</b><br/>\n",
        "<audio src=\"https://henk.tech/colabkobold/silence.m4a\" controls>"
      ]
    },
    {
      "cell_type": "code",
      "execution_count": null,
      "metadata": {
        "id": "hps3qtPLFNBb",
        "cellView": "form"
      },
      "outputs": [],
      "source": [
        "#@title <b>TavernAI</b>\n",
        "#@markdown <- Click For Start (≖ ‸ ≖ ✿)\n",
        "\n",
        "NGROK_token = \"\" #@param {type:\"string\"}\n",
        "Version = \"Custom\" \n",
        "use_google_drive = True #@param {type:\"boolean\"}\n",
        "\n",
        "import os\n",
        "from google.colab import drive\n",
        "\n",
        "if use_google_drive:\n",
        "  drive.mount('/content/drive/')\n",
        "  if not os.path.exists(\"/content/drive/MyDrive/TavernAI/\"):\n",
        "    os.mkdir(\"/content/drive/MyDrive/TavernAI/\")\n",
        "  if not os.path.exists(\"/content/drive/MyDrive/TavernAI/characters/\"):\n",
        "    os.mkdir(\"/content/drive/MyDrive/TavernAI/characters/\")\n",
        "  if not os.path.exists(\"/content/drive/MyDrive/TavernAI/chats/\"):\n",
        "    os.mkdir(\"/content/drive/MyDrive/TavernAI/chats/\")\n",
        "else:\n",
        "  if not os.path.exists(\"/content/drive\"):\n",
        "    os.mkdir(\"/content/drive\")\n",
        "  if not os.path.exists(\"/content/drive/MyDrive/\"):\n",
        "    os.mkdir(\"/content/drive/MyDrive/\")\n",
        "\n",
        "\n",
        "\n",
        "!nvidia-smi\n",
        "!npm install -g localtunnel\n",
        "import subprocess\n",
        "import time\n",
        "import sys\n",
        "import threading\n",
        "import shutil\n",
        "\n",
        "if NGROK_token:\n",
        "  !pip install pyngrok\n",
        "  !streamlit run app.py&>/dev/null&\n",
        "  from pyngrok import ngrok\n",
        "  os.environ['NGROK_token'] = NGROK_token\n",
        "  !ngrok authtoken $NGROK_token\n",
        "  publ_url = ngrok.connect(addr = '8000')\n",
        "else:\n",
        "  publ_url = ''\n",
        "  print(\"NGROK 미사용\")\n",
        "    \n",
        "#TavernAI\n",
        "%cd /\n",
        "!curl -o- https://raw.githubusercontent.com/nvm-sh/nvm/v0.37.2/install.sh | bash\n",
        "!nvm install 19.1.0\n",
        "!nvm use 19.1.0\n",
        "!node -v\n",
        "!git clone https://github.com/DCP-arca/TavernAI-mobile-tweak TavernAI-mobile-tweak\n",
        "%cd TavernAI-mobile-tweak\n",
        "!npm install\n",
        "time.sleep(1)\n",
        "%env colab=2\n",
        "%env colaburl=$url\n",
        "if use_google_drive:\n",
        "  %env googledrive=2\n",
        "!nohup node server.js &\n",
        "time.sleep(3)\n",
        "print('')\n",
        "print('###TavernAI LINK###')\n",
        "print(publ_url)\n",
        "!lt --port 8000"
      ]
    }
  ],
  "metadata": {
    "colab": {
      "provenance": []
    },
    "gpuClass": "standard",
    "kernelspec": {
      "display_name": "Python 3",
      "name": "python3"
    },
    "language_info": {
      "name": "python"
    },
    "accelerator": "GPU"
  },
  "nbformat": 4,
  "nbformat_minor": 0
}